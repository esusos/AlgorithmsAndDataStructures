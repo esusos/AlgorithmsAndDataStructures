{
 "cells": [
  {
   "cell_type": "code",
   "execution_count": 7,
   "metadata": {
    "executionInfo": {
     "elapsed": 318,
     "status": "ok",
     "timestamp": 1652261129523,
     "user": {
      "displayName": "Didar Yedilkhan",
      "userId": "14684032553799012969"
     },
     "user_tz": -360
    },
    "id": "N995c0jZGljv"
   },
   "outputs": [],
   "source": [
    "class HashTable ():\n",
    "  \n",
    "  def __init__ (self):\n",
    "    self.size = 10\n",
    "    self.keys = [None]* self.size\n",
    "    self.values = [None]*self.size\n",
    "  \n",
    "  def put (self, key, data):\n",
    "    \n",
    "    index = self.hashfunction(key) \n",
    "    # not None -> it is a collision\n",
    "    # будет делаться до тех пор пока не найдет свободную ячейку\n",
    "    while self.keys[index] is not None:\n",
    "      # rehash to try to find another slot\n",
    "      index = (index+1)%self.size \n",
    "    \n",
    "    #insert\n",
    "    self.keys[index] = key\n",
    "    self.values[index] = data\n",
    "  \n",
    "  def get (self, key):\n",
    "\n",
    "    index = self.hashfunction(key) \n",
    "\n",
    "    while self.keys[index] is not None:\n",
    "        if self.keys[index] == key:\n",
    "            return self.values [index]\n",
    "        \n",
    "        index = (index+1)%self.size\n",
    "    \n",
    "    return None\n",
    "\n",
    "  def modifyValue(self, key, newData):\n",
    "        \n",
    "        index = self.hashfunction(key)\n",
    "        j = 1\n",
    "        while self.keys[index] is not None:\n",
    "\n",
    "            if self.keys[index] == key:\n",
    "                self.values[index] = newData\n",
    "            index = (index + j*j)%self.size\n",
    "            j+=1\n",
    "    \n",
    "  def removeAll(self, key):\n",
    "        index = self.hashfunction(key) \n",
    "        j = 0\n",
    "        while self.keys[index] is not None:\n",
    "            \n",
    "            if self.keys[index] == key:\n",
    "                self.values[index] = None\n",
    "                self.keys[index] = None\n",
    "                break\n",
    "            index = (index + j*j)%self.size\n",
    "            j+=1\n",
    "        \n",
    "  \n",
    "  #def printTable(self):\n",
    "        \n",
    "    #def modifyAll(self, oldKey)\n",
    "    \n",
    "  def hashfunction (self, key):  #key in any type\n",
    "    sum = 0\n",
    "    for pos in range (len(key)):\n",
    "      sum = sum + ord(key[pos])\n",
    "    \n",
    "    return sum%self.size"
   ]
  },
  {
   "cell_type": "code",
   "execution_count": 8,
   "metadata": {},
   "outputs": [
    {
     "data": {
      "text/plain": [
       "1"
      ]
     },
     "execution_count": 8,
     "metadata": {},
     "output_type": "execute_result"
    }
   ],
   "source": [
    "hashtabe = HashTable()\n",
    "hashtabe.put('apple',1)\n",
    "hashtabe.put('banana',23)\n",
    "hashtabe.put('hleb',17)\n",
    "hashtabe.put('ogurets',0)\n",
    "hashtabe.get('apple')"
   ]
  },
  {
   "cell_type": "code",
   "execution_count": 9,
   "metadata": {},
   "outputs": [
    {
     "data": {
      "text/plain": [
       "999"
      ]
     },
     "execution_count": 9,
     "metadata": {},
     "output_type": "execute_result"
    }
   ],
   "source": [
    "hashtabe.modifyValue('apple',999)\n",
    "hashtabe.get('apple')"
   ]
  },
  {
   "cell_type": "code",
   "execution_count": 10,
   "metadata": {},
   "outputs": [],
   "source": [
    "hashtabe.removeAll('apple')"
   ]
  },
  {
   "cell_type": "code",
   "execution_count": 11,
   "metadata": {},
   "outputs": [
    {
     "name": "stdout",
     "output_type": "stream",
     "text": [
      "None\n"
     ]
    }
   ],
   "source": [
    "print(hashtabe.get('apple'))"
   ]
  },
  {
   "cell_type": "code",
   "execution_count": 12,
   "metadata": {},
   "outputs": [],
   "source": [
    "if __name__ == '__main':\n",
    "    hashtabe = HashTable()\n",
    "    table.put('a', 1)\n",
    "    table.put('b', 2)\n",
    "    table.put('c', 3)\n",
    "    table.put('d', 4)\n",
    "    table.put('e', 5)\n",
    "    table.modify('a',99)\n",
    "    print(table.get('apple'))\n",
    "    print(23)"
   ]
  },
  {
   "cell_type": "code",
   "execution_count": null,
   "metadata": {},
   "outputs": [],
   "source": []
  },
  {
   "cell_type": "code",
   "execution_count": null,
   "metadata": {},
   "outputs": [],
   "source": []
  }
 ],
 "metadata": {
  "colab": {
   "authorship_tag": "ABX9TyME470eF9cXdb3olzy3Yj/4",
   "name": "Hashtables.ipynb",
   "provenance": []
  },
  "kernelspec": {
   "display_name": "Python 3 (ipykernel)",
   "language": "python",
   "name": "python3"
  },
  "language_info": {
   "codemirror_mode": {
    "name": "ipython",
    "version": 3
   },
   "file_extension": ".py",
   "mimetype": "text/x-python",
   "name": "python",
   "nbconvert_exporter": "python",
   "pygments_lexer": "ipython3",
   "version": "3.9.7"
  }
 },
 "nbformat": 4,
 "nbformat_minor": 1
}
