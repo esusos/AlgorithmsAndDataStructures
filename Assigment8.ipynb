{
 "cells": [
  {
   "cell_type": "code",
   "execution_count": 12,
   "metadata": {},
   "outputs": [],
   "source": [
    "from collections import deque"
   ]
  },
  {
   "cell_type": "code",
   "execution_count": 13,
   "metadata": {
    "colab": {},
    "colab_type": "code",
    "executionInfo": {
     "elapsed": 1373,
     "status": "ok",
     "timestamp": 1597596410076,
     "user": {
      "displayName": "Didar Yedilkhan",
      "photoUrl": "https://lh3.googleusercontent.com/a-/AOh14GjsFMHIBFgAB7IAfa09mOrBlR_CrvVpPOMZZB_VrA=s64",
      "userId": "14684032553799012969"
     },
     "user_tz": -360
    },
    "id": "JLjNPb8RN1zQ"
   },
   "outputs": [],
   "source": [
    "class Node (): \n",
    "  def __init__ (self, name):\n",
    "    self.name = name;                       # A\n",
    "    self.adjacencyList = [];                # [B, C]\n",
    "    self.visited = False;                   # False\n",
    "\n",
    "class BreadthFirstSearch ():\n",
    "  def bfs (self, startNode):\n",
    "    queue = [];\n",
    "    queue.append(startNode);\n",
    "    startNode.visited = True;\n",
    "\n",
    "    while queue: #while the queue is not empty\n",
    "      actualNode = queue.pop(0);   #FIFO\n",
    "      print (\"%s \" % actualNode.name);\n",
    "\n",
    "      for n in actualNode.adjacencyList:\n",
    "        if not n.visited:\n",
    "          n.visited = True;\n",
    "          queue.append(n);  \n",
    "\n"
   ]
  },
  {
   "cell_type": "code",
   "execution_count": 14,
   "metadata": {
    "colab": {
     "base_uri": "https://localhost:8080/",
     "height": 101
    },
    "colab_type": "code",
    "executionInfo": {
     "elapsed": 843,
     "status": "ok",
     "timestamp": 1597596575210,
     "user": {
      "displayName": "Didar Yedilkhan",
      "photoUrl": "https://lh3.googleusercontent.com/a-/AOh14GjsFMHIBFgAB7IAfa09mOrBlR_CrvVpPOMZZB_VrA=s64",
      "userId": "14684032553799012969"
     },
     "user_tz": -360
    },
    "id": "P7civOf2TW-U",
    "outputId": "88c58e10-5ff5-4977-82b2-31a1b47af127"
   },
   "outputs": [
    {
     "name": "stdout",
     "output_type": "stream",
     "text": [
      "A \n",
      "B \n",
      "C \n",
      "D \n",
      "E \n"
     ]
    }
   ],
   "source": [
    "node1 = Node(\"A\")\n",
    "node2 = Node(\"B\")\n",
    "node3 = Node(\"C\")\n",
    "node4 = Node(\"D\")\n",
    "node5 = Node(\"E\")\n",
    "\n",
    "node1.adjacencyList.append(node2);\n",
    "node1.adjacencyList.append(node3);\n",
    "node2.adjacencyList.append(node4);\n",
    "node4.adjacencyList.append(node5);\n",
    "\n",
    "bfs = BreadthFirstSearch()\n",
    "bfs.bfs(node1);\n"
   ]
  },
  {
   "cell_type": "code",
   "execution_count": 15,
   "metadata": {
    "colab": {},
    "colab_type": "code",
    "executionInfo": {
     "elapsed": 937,
     "status": "ok",
     "timestamp": 1597596618415,
     "user": {
      "displayName": "Didar Yedilkhan",
      "photoUrl": "https://lh3.googleusercontent.com/a-/AOh14GjsFMHIBFgAB7IAfa09mOrBlR_CrvVpPOMZZB_VrA=s64",
      "userId": "14684032553799012969"
     },
     "user_tz": -360
    },
    "id": "b2080cXQXoBl"
   },
   "outputs": [],
   "source": [
    "### DFS\n",
    "class Node ():\n",
    "  def __init__ (self, name):\n",
    "    self.name = name;\n",
    "    self.adjacencyList = [];\n",
    "    self.visited = False;\n",
    "\n",
    "class DepthFirstSearch ():\n",
    "  def dfs (self, node):\n",
    "    \n",
    "    node.visited = True;\n",
    "    print (\"%s \" % node.name);\n",
    "    \n",
    "    for n in node.adjacencyList:\n",
    "      if not n.visited:\n",
    "        self.dfs(n);\n",
    "\n"
   ]
  },
  {
   "cell_type": "code",
   "execution_count": 16,
   "metadata": {
    "colab": {
     "base_uri": "https://localhost:8080/",
     "height": 101
    },
    "colab_type": "code",
    "executionInfo": {
     "elapsed": 769,
     "status": "ok",
     "timestamp": 1597596622733,
     "user": {
      "displayName": "Didar Yedilkhan",
      "photoUrl": "https://lh3.googleusercontent.com/a-/AOh14GjsFMHIBFgAB7IAfa09mOrBlR_CrvVpPOMZZB_VrA=s64",
      "userId": "14684032553799012969"
     },
     "user_tz": -360
    },
    "id": "eEmCPuRIYTEe",
    "outputId": "2f3bbf12-64f9-4398-a812-ccc2a64d4d62"
   },
   "outputs": [
    {
     "name": "stdout",
     "output_type": "stream",
     "text": [
      "A \n",
      "B \n",
      "D \n",
      "E \n",
      "C \n"
     ]
    }
   ],
   "source": [
    "node1 = Node(\"A\")\n",
    "node2 = Node(\"B\")\n",
    "node3 = Node(\"C\")\n",
    "node4 = Node(\"D\")\n",
    "node5 = Node(\"E\")\n",
    "\n",
    "node1.adjacencyList.append(node2);\n",
    "node1.adjacencyList.append(node3);\n",
    "node2.adjacencyList.append(node4);\n",
    "node4.adjacencyList.append(node5);\n",
    "\n",
    "dfs = DepthFirstSearch()\n",
    "dfs.dfs(node1);"
   ]
  },
  {
   "cell_type": "code",
   "execution_count": 21,
   "metadata": {},
   "outputs": [],
   "source": [
    "class DepthFirstSearchIterative:\n",
    "    def dfsi(self, node):\n",
    "        # create stack\n",
    "        stack = deque()\n",
    "        \n",
    "        # append node to stack\n",
    "        stack.append(node)\n",
    "        # loop will iterate while there are some elements in stack\n",
    "        while stack:\n",
    "            v = stack.pop()\n",
    "            print(f'poping {v.name}')\n",
    " \n",
    "            # if node already visited, ignore it\n",
    "            if v.visited:\n",
    "                continue\n",
    "                \n",
    "            # change bool value to True if we visited   \n",
    "            v.visited = True \n",
    "            print(v.name, end = ' ')\n",
    "            \n",
    "            adjLst = v.adjacencyList\n",
    "            for i in reversed(range(len(adjLst))):\n",
    "                u = adjLst[i]\n",
    "                if u.visited == False:\n",
    "                    print(f'appending {u.name} to the stack')\n",
    "                    stack.append(u)\n",
    "                \n",
    "            \n",
    "            "
   ]
  },
  {
   "cell_type": "code",
   "execution_count": 22,
   "metadata": {
    "colab": {},
    "colab_type": "code",
    "id": "MkOuztfDLdw5"
   },
   "outputs": [
    {
     "name": "stdout",
     "output_type": "stream",
     "text": [
      "poping A\n",
      "A appending C to the stack\n",
      "appending B to the stack\n",
      "poping B\n",
      "B appending C to the stack\n",
      "appending D to the stack\n",
      "poping D\n",
      "D appending E to the stack\n",
      "poping E\n",
      "E poping C\n",
      "C poping C\n"
     ]
    }
   ],
   "source": [
    "node1 = Node(\"A\")\n",
    "node2 = Node(\"B\")\n",
    "node3 = Node(\"C\")\n",
    "node4 = Node(\"D\")\n",
    "node5 = Node(\"E\")\n",
    "\n",
    "node1.adjacencyList.append(node2);\n",
    "node1.adjacencyList.append(node3);\n",
    "node2.adjacencyList.append(node4);\n",
    "node4.adjacencyList.append(node5);\n",
    "node2.adjacencyList.append(node3)\n",
    "node3.adjacencyList.append(node4)\n",
    "dfsi = DepthFirstSearchIterative()\n",
    "dfsi.dfsi(node1);"
   ]
  },
  {
   "cell_type": "code",
   "execution_count": null,
   "metadata": {},
   "outputs": [],
   "source": []
  }
 ],
 "metadata": {
  "colab": {
   "authorship_tag": "ABX9TyPeORlIcmW3uyHRC8ewP362",
   "name": "Graphs.ipynb",
   "provenance": []
  },
  "kernelspec": {
   "display_name": "Python 3 (ipykernel)",
   "language": "python",
   "name": "python3"
  },
  "language_info": {
   "codemirror_mode": {
    "name": "ipython",
    "version": 3
   },
   "file_extension": ".py",
   "mimetype": "text/x-python",
   "name": "python",
   "nbconvert_exporter": "python",
   "pygments_lexer": "ipython3",
   "version": "3.9.7"
  }
 },
 "nbformat": 4,
 "nbformat_minor": 1
}
