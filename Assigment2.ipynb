{
 "cells": [
  {
   "cell_type": "markdown",
   "id": "d1aab29b",
   "metadata": {},
   "source": [
    "Write a program to create an array of 5 integers and display the array items. Access individual element through indexes.\n"
   ]
  },
  {
   "cell_type": "code",
   "execution_count": 1,
   "id": "ff7fd6d8",
   "metadata": {
    "scrolled": false
   },
   "outputs": [
    {
     "name": "stdout",
     "output_type": "stream",
     "text": [
      "1\n",
      "2\n",
      "3\n",
      "5\n",
      "234\n",
      "1 2 3 5 234\n"
     ]
    }
   ],
   "source": [
    "def array5():\n",
    "    arr = []\n",
    "    for i in range(5):\n",
    "        a = int(input())\n",
    "        arr.append(a)\n",
    "    print(arr[0],arr[1],arr[2],arr[3],arr[4])\n",
    "array5()"
   ]
  },
  {
   "cell_type": "markdown",
   "id": "a73e95fd",
   "metadata": {},
   "source": [
    "Write a program to append a new item to the end of the array.\n"
   ]
  },
  {
   "cell_type": "code",
   "execution_count": 2,
   "id": "cd7fd675",
   "metadata": {
    "scrolled": true
   },
   "outputs": [
    {
     "name": "stdout",
     "output_type": "stream",
     "text": [
      "[1, 2, 3, 4, 5]\n"
     ]
    }
   ],
   "source": [
    "def appendElement(arr1, item):\n",
    "    arr1.append(item)\n",
    "    return arr1\n",
    "arr = [1, 2, 3, 4]\n",
    "print(appendElement(arr,5))"
   ]
  },
  {
   "cell_type": "markdown",
   "id": "440c2671",
   "metadata": {},
   "source": [
    "Write a program to reverse the order of the items in the array.\n"
   ]
  },
  {
   "cell_type": "code",
   "execution_count": 3,
   "id": "0b19f819",
   "metadata": {},
   "outputs": [
    {
     "name": "stdout",
     "output_type": "stream",
     "text": [
      "[6, 5, 4, 3, 2, 1]\n"
     ]
    }
   ],
   "source": [
    "def arrReverse(arr1):\n",
    "    return arr1[::-1]\n",
    "\n",
    "arr = [1, 2, 3, 4, 5, 6]\n",
    "print(arrReverse(arr))"
   ]
  },
  {
   "cell_type": "markdown",
   "id": "b3130a95",
   "metadata": {},
   "source": [
    "Write a program to get the number of occurrences of a specified element in an array"
   ]
  },
  {
   "cell_type": "code",
   "execution_count": 7,
   "id": "98edd1f2",
   "metadata": {},
   "outputs": [
    {
     "name": "stdout",
     "output_type": "stream",
     "text": [
      "1\n"
     ]
    }
   ],
   "source": [
    "def numberOccurence(arr, item):\n",
    "    count = 0\n",
    "    for i in range(len(arr)):\n",
    "         if arr[i] == item:\n",
    "                count +=1\n",
    "    return count\n",
    "arr = [1, 2, 3, 4, 5, 1, 2, 4, 7]\n",
    "print(numberOccurence(arr, 7))\n",
    "        "
   ]
  },
  {
   "cell_type": "markdown",
   "id": "6a55bdeb",
   "metadata": {},
   "source": [
    "Write a program to append items from another array"
   ]
  },
  {
   "cell_type": "code",
   "execution_count": 8,
   "id": "0560f472",
   "metadata": {},
   "outputs": [
    {
     "name": "stdout",
     "output_type": "stream",
     "text": [
      "[1, 2, 3, 4, 5, 6, 7, 8]\n"
     ]
    }
   ],
   "source": [
    "def appendArray(arr1, arr2):\n",
    "    for i in range(len(arr2)):\n",
    "        arr1.append(arr2[i])\n",
    "        \n",
    "arr1 = [1, 2, 3, 4]\n",
    "arr2 = [5, 6, 7, 8]\n",
    "appendArray(arr1, arr2)\n",
    "print(arr1)"
   ]
  },
  {
   "cell_type": "markdown",
   "id": "12849be6",
   "metadata": {},
   "source": [
    "Write a program to remove a specified item using the index from an array!"
   ]
  },
  {
   "cell_type": "code",
   "execution_count": 10,
   "id": "ca14f098",
   "metadata": {},
   "outputs": [
    {
     "name": "stdout",
     "output_type": "stream",
     "text": [
      "[2, 3, 4]\n"
     ]
    }
   ],
   "source": [
    "def removeByIndex(arr1, index):\n",
    "    arr2 = []\n",
    "    for i in range(len(arr1)):\n",
    "        if i != index:\n",
    "            arr2.append(arr1[i])\n",
    "    return arr2\n",
    "arr = [1, 2, 3, 4]\n",
    "print(removeByIndex(arr, 0))\n"
   ]
  },
  {
   "cell_type": "markdown",
   "id": "c18a6121",
   "metadata": {},
   "source": [
    "Write a program to remove the first occurrence of a specified element from an array.\n"
   ]
  },
  {
   "cell_type": "code",
   "execution_count": 16,
   "id": "0070ef80",
   "metadata": {},
   "outputs": [
    {
     "name": "stdout",
     "output_type": "stream",
     "text": [
      "[4, 6, 8, 0, 34, 1]\n"
     ]
    }
   ],
   "source": [
    "def remobeByOccurence(arr1, element):\n",
    "    arr2 = []\n",
    "    index = None\n",
    "    for i in range(len(arr1)):\n",
    "        if arr[i] == element:\n",
    "            index = i\n",
    "            break\n",
    "    if index != None:\n",
    "        for i in range(len(arr1)):\n",
    "            if i != index:\n",
    "                arr2.append(arr[i])\n",
    "        return arr2\n",
    "    \n",
    "    return arr1\n",
    "\n",
    "arr = [4, 6, 1, 8, 0, 34, 1]\n",
    "print(remobeByOccurence(arr,1))"
   ]
  },
  {
   "cell_type": "markdown",
   "id": "26ef3dc9",
   "metadata": {},
   "source": [
    "Write a program to find the first duplicate element in a given array of integers\n"
   ]
  },
  {
   "cell_type": "code",
   "execution_count": 20,
   "id": "96195342",
   "metadata": {},
   "outputs": [
    {
     "name": "stdout",
     "output_type": "stream",
     "text": [
      "None\n"
     ]
    }
   ],
   "source": [
    "def findDublice(arr):\n",
    "    emptyArray = []\n",
    "    for i in range(len(arr)):\n",
    "        if arr[i] not in emptyArray:\n",
    "            emptyArray.append(arr[i])\n",
    "        else:\n",
    "            #print(emptyArray)\n",
    "            return arr[i]\n",
    "            \n",
    "    \n",
    "    \n",
    "    \n",
    "#[2, 3, 4, 5, 1]    \n",
    "arr = [2, 3, 4, 5, 1]\n",
    "print(findDublice(arr))"
   ]
  },
  {
   "cell_type": "markdown",
   "id": "f625f971",
   "metadata": {},
   "source": [
    "For the LinkedList created and described in the lecture, create two more member functions which 1. remove an item from the beginning of the linked list, 2. remove an item from the end of the linked list"
   ]
  },
  {
   "cell_type": "code",
   "execution_count": 21,
   "id": "b53f2991",
   "metadata": {},
   "outputs": [],
   "source": [
    "class Node():\n",
    "    # default constructor\n",
    "    def __init__(self, data):\n",
    "        self.data = data\n",
    "        self.nextNode = None\n",
    "\n",
    "# Creating class Linked list\n",
    "class LinkedList():\n",
    "    def __init__(self):\n",
    "        self.head = None # first element is empty in the beginning\n",
    "        self.size = 0 # size is 0, because list is empty\n",
    "        \n",
    "        \n",
    "    def insertStart(self, data): # method to insert element in the start, which accepts one parametres\n",
    "        # it is data which will be inserted\n",
    "        self.size = self.size + 1 # incrementing size, beciuse size is getting bigger on 1\n",
    "        newNode = Node(data) # creating new node using class Node\n",
    "        if not self.head: # in case if linked list is empty, we just adding data as first element\n",
    "            self.head = newNode\n",
    "        else: # if it is already has first elemnt\n",
    "            newNode.nextNode = self.head   # moving head element forrawrd in ome postion\n",
    "            self.head = newNode\n",
    "            \n",
    "            \n",
    "    def size(self): # method to return size\n",
    "            return self.size\n",
    "        \n",
    "        \n",
    "    def traverseList(self): # method to visit each node of the list and then print it\n",
    "            actualNode = self.head # creating variable which will be going through list, \n",
    "            #in the beginnig of iteration it is first element of list\n",
    "            while actualNode is not None: # this loop will be iterating untill the end of list\n",
    "                # if the next element is None, that means that it is the end of list\n",
    "                print(actualNode.data) # print data\n",
    "                actualNode = actualNode.nextNode # making actualNode move forward\n",
    "    \n",
    "    \n",
    "    # 1 --> 5 --> 8 --> 89 --> 64\n",
    "    def deleteBegin(self):\n",
    "        actualNode = self.head\n",
    "        if actualNode == None:\n",
    "            return None\n",
    "        else:\n",
    "            self.head = actualNode.nextNode\n",
    "            actualNode = None\n",
    "   \n",
    "    \n",
    "    def deleteEnd(self):\n",
    "        # this method will have three cases\n",
    "        actualNode = self.head\n",
    "\n",
    "        # first case when lst is empty\n",
    "        if actualNode == None:\n",
    "            return None\n",
    "        # second case when there are only one element\n",
    "        if actualNode.nextNode == None:\n",
    "            self.head = None\n",
    "            return None\n",
    "        # third when there are more than one element\n",
    "        while actualNode.nextNode.nextNode != None:\n",
    "            actualNode = actualNode.nextNode\n",
    "        actualNode.nextNode = None\n",
    "        \n",
    "        \n",
    "            \n",
    "\n",
    "                \n",
    "            \n",
    "            "
   ]
  },
  {
   "cell_type": "code",
   "execution_count": 22,
   "id": "1d8e8c56",
   "metadata": {},
   "outputs": [
    {
     "name": "stdout",
     "output_type": "stream",
     "text": [
      "5\n",
      "4\n",
      "3\n",
      "2\n",
      "1\n",
      "----\n",
      "4\n",
      "3\n",
      "2\n",
      "1\n"
     ]
    }
   ],
   "source": [
    "mylist1 = LinkedList()\n",
    "mylist1.insertStart(1)\n",
    "mylist1.insertStart(2)\n",
    "mylist1.insertStart(3)\n",
    "mylist1.insertStart(4)\n",
    "mylist1.insertStart(5)\n",
    "\n",
    "\n",
    "\n",
    "mylist1.traverseList()\n",
    "mylist1.deleteBegin()\n",
    "print('----')\n",
    "mylist1.traverseList()\n"
   ]
  },
  {
   "cell_type": "code",
   "execution_count": null,
   "id": "f1e6584f",
   "metadata": {},
   "outputs": [],
   "source": []
  }
 ],
 "metadata": {
  "kernelspec": {
   "display_name": "Python 3 (ipykernel)",
   "language": "python",
   "name": "python3"
  },
  "language_info": {
   "codemirror_mode": {
    "name": "ipython",
    "version": 3
   },
   "file_extension": ".py",
   "mimetype": "text/x-python",
   "name": "python",
   "nbconvert_exporter": "python",
   "pygments_lexer": "ipython3",
   "version": "3.9.7"
  }
 },
 "nbformat": 4,
 "nbformat_minor": 5
}
