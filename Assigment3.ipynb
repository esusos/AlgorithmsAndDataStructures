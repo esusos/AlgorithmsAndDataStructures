{
 "cells": [
  {
   "cell_type": "code",
   "execution_count": 2,
   "id": "173c411d",
   "metadata": {},
   "outputs": [],
   "source": [
    "# implementation of stacks with arrays\n",
    "class Stackarr():\n",
    "    def __init__(self):\n",
    "        self.stack = []\n",
    "        \n",
    "    def isEmpty(self):\n",
    "        return self.stack == []\n",
    "    \n",
    "    def push(self, data):\n",
    "        self.stack.append(data)\n",
    "        \n",
    "    def pop(self):\n",
    "        data = self.stack[-1] # the last one\n",
    "        del self.stack[-1] # deleting element\n",
    "        return data\n",
    "    \n",
    "    def peek(self):\n",
    "        return self.stack[-1]\n",
    "    \n",
    "    def sizeStack(self):\n",
    "        return len(self.stack)\n",
    "    \n",
    "    def printStackArr(self):\n",
    "        print(self.stack)\n",
    "    \n",
    "    \n",
    "    \n",
    "    def sortStack(self, stack):\n",
    "        tmpStack = Stackarr()\n",
    "\n",
    "        while(stack.isEmpty() == False):\n",
    "            tmp = stack.peek()\n",
    "            stack.pop()\n",
    "            \n",
    "            while(tmpStack.isEmpty() == False and int(tmpStack.peek()) < int(tmp)):\n",
    "                stack.push(tmpStack.peek())\n",
    "                tmpStack.pop()\n",
    "            \n",
    "            tmpStack.push(tmp)\n",
    "        return tmpStack.peek()\n",
    "        \n"
   ]
  },
  {
   "cell_type": "code",
   "execution_count": 3,
   "id": "8dfda53f",
   "metadata": {},
   "outputs": [
    {
     "data": {
      "text/plain": [
       "4"
      ]
     },
     "execution_count": 3,
     "metadata": {},
     "output_type": "execute_result"
    }
   ],
   "source": [
    "st1 = Stackarr()\n",
    "st1.push(89)\n",
    "st1.push(4)\n",
    "st1.push(91)\n",
    "sort = st1.sortStack(st1)\n",
    "sort"
   ]
  },
  {
   "cell_type": "code",
   "execution_count": null,
   "id": "6387e803",
   "metadata": {},
   "outputs": [],
   "source": [
    "\n"
   ]
  },
  {
   "cell_type": "markdown",
   "id": "20651653",
   "metadata": {},
   "source": [
    "Implementation of stack with linkedList"
   ]
  },
  {
   "cell_type": "code",
   "execution_count": 4,
   "id": "eab7eeb8",
   "metadata": {},
   "outputs": [],
   "source": [
    "class Node:\n",
    "\n",
    "    def __init__(self, data):\n",
    "        self.data = data\n",
    "        self.next = None\n",
    "        self.prev = None\n",
    "\n",
    "\n",
    "class StackLL:\n",
    "\n",
    "    def __init__(self):\n",
    "        self.head = None\n",
    "\n",
    "    def push(self, data):\n",
    "        if self.head is None:\n",
    "            self.head = Node(data)\n",
    "        else:\n",
    "            new_node = Node(data)\n",
    "            self.head.prev = new_node\n",
    "            new_node.next = self.head\n",
    "            new_node.prev = None\n",
    "            self.head = new_node\n",
    "\n",
    "    def pop(self):\n",
    "        if self.head is None:\n",
    "            return None\n",
    "        else:\n",
    "            temp = self.head.data\n",
    "            self.head = self.head.next\n",
    "            self.head.prev = None\n",
    "            return temp\n",
    "\n",
    "    def peek(self):\n",
    "        return self.head.data\n",
    "\n",
    "    def size(self):\n",
    "        temp = self.head\n",
    "        count = 0\n",
    "        while temp is not None:\n",
    "            count = count + 1\n",
    "            temp = temp.next\n",
    "        return count\n",
    "\n",
    "    def isEmpty(self):\n",
    "        if self.head is None:\n",
    "            return True\n",
    "        else:\n",
    "            return False\n",
    "\n",
    "    def printstack(self):\n",
    "        print(\"stack elements are:\")\n",
    "        temp = self.head\n",
    "        while temp is not None:\n",
    "            print(temp.data, end=\"->\")\n",
    "            temp = temp.next\n"
   ]
  },
  {
   "cell_type": "code",
   "execution_count": 5,
   "id": "214caefe",
   "metadata": {},
   "outputs": [],
   "source": [
    "class Queue:\n",
    "    \n",
    "    def __init__(self):\n",
    "        self.queue = [] # by default queue is empty\n",
    "        \n",
    "    def isEmpty(self):\n",
    "        return self.queue == []\n",
    "    \n",
    "    def enqueue(self, data):\n",
    "        self.queue.append(data) # appending data to queue\n",
    "        \n",
    "    def dequeue(self): # delete and return\n",
    "        data =  self.queue[0] # data is first element of queue\n",
    "        del self.queue[0]\n",
    "        return data\n",
    "    \n",
    "    def peek(self):\n",
    "        return self.queue[0]\n",
    "    \n",
    "    def size(self):\n",
    "        return len(self.queue)\n",
    "    \n",
    "    def first(self):\n",
    "        return self.queue[-1]\n",
    "    \n",
    "    def printQueueArr(self):\n",
    "        print(self.queue)\n",
    "    \n",
    "\n",
    "    \n",
    "    \n",
    "    \n",
    "    \n",
    "def reverseQueue(queue):\n",
    "    if queue.isEmpty():\n",
    "        return queue\n",
    "    else:\n",
    "        data = queue.peek()\n",
    "        queue.dequeue()\n",
    "        queue = reverseQueue(queue)\n",
    "        queue.enqueue(data)\n",
    "        return queue"
   ]
  },
  {
   "cell_type": "code",
   "execution_count": 6,
   "id": "fd9d58b2",
   "metadata": {},
   "outputs": [
    {
     "name": "stdout",
     "output_type": "stream",
     "text": [
      "[23, 8, -23]\n",
      "[-23, 8, 23]\n"
     ]
    }
   ],
   "source": [
    "queue = Queue()\n",
    "queue.enqueue(23)\n",
    "queue.enqueue(8)\n",
    "queue.enqueue(-23)\n",
    "queue.printQueueArr()\n",
    "\n",
    "rev = reverseQueue(queue)\n",
    "rev.printQueueArr()"
   ]
  },
  {
   "cell_type": "code",
   "execution_count": 15,
   "id": "19a62a65",
   "metadata": {},
   "outputs": [],
   "source": [
    "class Node:\n",
    "    def __init__(self,data):\n",
    "        self.data = data\n",
    "        self.next = None\n",
    "        \n",
    "class QueueLL2:\n",
    "    def __init__(self):\n",
    "        self.left = None\n",
    "        self.right = None\n",
    "        self.size = 0\n",
    "    \n",
    "    def enqueue(self, data):\n",
    "        node = Node(data)\n",
    "        \n",
    "        # case when queue is empty\n",
    "        if self.right is None:\n",
    "            self.left = node\n",
    "            self.right = node\n",
    "        else:\n",
    "            self.left.next = node\n",
    "            self.left = node\n",
    "    \"\"\"def peek(self):\n",
    "        return self.left.data\"\"\"\n",
    "    \n",
    "    def dequeue(self):\n",
    "        temp = self.right\n",
    "        \n",
    "        self.right = self.right.next\n",
    "        \n",
    "        if self.right is None:\n",
    "            self.left = None\n",
    "        self.size = self.size -1 \n",
    "        return temp.data\n",
    "            "
   ]
  },
  {
   "cell_type": "code",
   "execution_count": 18,
   "id": "3c575ad5",
   "metadata": {},
   "outputs": [
    {
     "data": {
      "text/plain": [
       "23"
      ]
     },
     "execution_count": 18,
     "metadata": {},
     "output_type": "execute_result"
    }
   ],
   "source": [
    "q = QueueLL2()\n",
    "q.enqueue(23)\n",
    "q.enqueue(34)\n",
    "q.enqueue(12)\n",
    "#q.dequeue()\n",
    "#q.dequeue()\n",
    "q.dequeue()\n",
    "#q.peek()"
   ]
  },
  {
   "cell_type": "code",
   "execution_count": 1,
   "id": "c36a97d4",
   "metadata": {},
   "outputs": [
    {
     "ename": "NameError",
     "evalue": "name 'StackLL' is not defined",
     "output_type": "error",
     "traceback": [
      "\u001b[1;31m---------------------------------------------------------------------------\u001b[0m",
      "\u001b[1;31mNameError\u001b[0m                                 Traceback (most recent call last)",
      "\u001b[1;32m~\\AppData\\Local\\Temp/ipykernel_8196/3288741590.py\u001b[0m in \u001b[0;36m<module>\u001b[1;34m\u001b[0m\n\u001b[0;32m      7\u001b[0m     \u001b[1;32mreturn\u001b[0m \u001b[0mst\u001b[0m\u001b[1;33m.\u001b[0m\u001b[0mpeek\u001b[0m\u001b[1;33m(\u001b[0m\u001b[1;33m)\u001b[0m\u001b[1;33m\u001b[0m\u001b[1;33m\u001b[0m\u001b[0m\n\u001b[0;32m      8\u001b[0m \u001b[1;33m\u001b[0m\u001b[0m\n\u001b[1;32m----> 9\u001b[1;33m \u001b[0mfactStack\u001b[0m\u001b[1;33m(\u001b[0m\u001b[1;36m5\u001b[0m\u001b[1;33m)\u001b[0m\u001b[1;33m\u001b[0m\u001b[1;33m\u001b[0m\u001b[0m\n\u001b[0m",
      "\u001b[1;32m~\\AppData\\Local\\Temp/ipykernel_8196/3288741590.py\u001b[0m in \u001b[0;36mfactStack\u001b[1;34m(number)\u001b[0m\n\u001b[0;32m      1\u001b[0m \u001b[1;32mdef\u001b[0m \u001b[0mfactStack\u001b[0m\u001b[1;33m(\u001b[0m\u001b[0mnumber\u001b[0m\u001b[1;33m)\u001b[0m\u001b[1;33m:\u001b[0m\u001b[1;33m\u001b[0m\u001b[1;33m\u001b[0m\u001b[0m\n\u001b[1;32m----> 2\u001b[1;33m     \u001b[0mst\u001b[0m \u001b[1;33m=\u001b[0m \u001b[0mStackLL\u001b[0m\u001b[1;33m(\u001b[0m\u001b[1;33m)\u001b[0m\u001b[1;33m\u001b[0m\u001b[1;33m\u001b[0m\u001b[0m\n\u001b[0m\u001b[0;32m      3\u001b[0m     \u001b[0mres\u001b[0m \u001b[1;33m=\u001b[0m \u001b[1;36m0\u001b[0m\u001b[1;33m\u001b[0m\u001b[1;33m\u001b[0m\u001b[0m\n\u001b[0;32m      4\u001b[0m     \u001b[0mst\u001b[0m\u001b[1;33m.\u001b[0m\u001b[0mpush\u001b[0m\u001b[1;33m(\u001b[0m\u001b[1;36m1\u001b[0m\u001b[1;33m)\u001b[0m\u001b[1;33m\u001b[0m\u001b[1;33m\u001b[0m\u001b[0m\n\u001b[0;32m      5\u001b[0m     \u001b[1;32mfor\u001b[0m \u001b[0mi\u001b[0m \u001b[1;32min\u001b[0m \u001b[0mrange\u001b[0m\u001b[1;33m(\u001b[0m\u001b[1;36m1\u001b[0m\u001b[1;33m,\u001b[0m \u001b[0mnumber\u001b[0m \u001b[1;33m+\u001b[0m \u001b[1;36m1\u001b[0m\u001b[1;33m)\u001b[0m\u001b[1;33m:\u001b[0m\u001b[1;33m\u001b[0m\u001b[1;33m\u001b[0m\u001b[0m\n",
      "\u001b[1;31mNameError\u001b[0m: name 'StackLL' is not defined"
     ]
    }
   ],
   "source": [
    "\n",
    "def factStack(number):\n",
    "    st = StackLL()\n",
    "    res = 0\n",
    "    st.push(1)\n",
    "    for i in range(1, number + 1):\n",
    "        st.push(st.peek() * i)\n",
    "    return st.peek()  \n",
    "\n",
    "factStack(5)"
   ]
  },
  {
   "cell_type": "code",
   "execution_count": null,
   "id": "52e183a5",
   "metadata": {},
   "outputs": [],
   "source": []
  },
  {
   "cell_type": "code",
   "execution_count": null,
   "id": "98bd378e",
   "metadata": {},
   "outputs": [],
   "source": []
  },
  {
   "cell_type": "code",
   "execution_count": null,
   "id": "70560e35",
   "metadata": {},
   "outputs": [],
   "source": []
  },
  {
   "cell_type": "code",
   "execution_count": null,
   "id": "3d5fbabf",
   "metadata": {},
   "outputs": [],
   "source": []
  }
 ],
 "metadata": {
  "kernelspec": {
   "display_name": "Python 3 (ipykernel)",
   "language": "python",
   "name": "python3"
  },
  "language_info": {
   "codemirror_mode": {
    "name": "ipython",
    "version": 3
   },
   "file_extension": ".py",
   "mimetype": "text/x-python",
   "name": "python",
   "nbconvert_exporter": "python",
   "pygments_lexer": "ipython3",
   "version": "3.9.7"
  }
 },
 "nbformat": 4,
 "nbformat_minor": 5
}
