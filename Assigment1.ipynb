{
 "cells": [
  {
   "cell_type": "code",
   "execution_count": 6,
   "id": "11699597",
   "metadata": {},
   "outputs": [
    {
     "name": "stdout",
     "output_type": "stream",
     "text": [
      "1\n",
      "2\n",
      "3\n",
      "4\n",
      "5\n",
      "6\n",
      "7\n",
      "8\n",
      "9\n",
      "10\n",
      "11\n",
      "12\n",
      "13\n",
      "14\n",
      "15\n",
      "16\n",
      "17\n",
      "18\n",
      "19\n",
      "20\n",
      "21\n",
      "22\n",
      "23\n",
      "24\n",
      "25\n",
      "26\n",
      "27\n",
      "28\n",
      "29\n",
      "30\n",
      "31\n",
      "32\n",
      "33\n",
      "34\n",
      "35\n",
      "36\n",
      "37\n",
      "38\n",
      "39\n",
      "40\n",
      "41\n",
      "42\n",
      "43\n",
      "44\n",
      "45\n",
      "46\n",
      "47\n",
      "48\n",
      "49\n",
      "50\n",
      "[1, 2, 3, 4, 5, 6, 7, 8, 9, 10, 11, 12, 13, 14, 15, 16, 17, 18, 19, 20, 21, 22, 23, 24, 25, 26, 27, 28, 29, 30, 31, 32, 33, 34, 35, 36, 37, 38, 39, 40, 41, 42, 43, 44, 45, 46, 47, 48, 49, 50]\n"
     ]
    }
   ],
   "source": [
    "# 1. Write a program to print first 50 natural numbers\n",
    "\n",
    "def first50Rec(i = 1):\n",
    "    if i == 50:\n",
    "        return 50\n",
    "    else:\n",
    "        print(i)\n",
    "        i += 1\n",
    "        return first50Rec(i)\n",
    "    \n",
    "def first50():\n",
    "    print([i for i in range(1,51)])\n",
    "    \n",
    "#print(first50Rec(50))\n",
    "print(first50Rec())\n",
    "first50()"
   ]
  },
  {
   "cell_type": "markdown",
   "id": "3047ef7c",
   "metadata": {},
   "source": [
    "2. Write a program to calculate the sum of numbers from 1 to n\n"
   ]
  },
  {
   "cell_type": "code",
   "execution_count": 10,
   "id": "7d077c42",
   "metadata": {},
   "outputs": [
    {
     "name": "stdout",
     "output_type": "stream",
     "text": [
      "10\n",
      "10\n"
     ]
    }
   ],
   "source": [
    "def firstSumRec(n, res = 0):\n",
    "    if n == 0:\n",
    "        return res\n",
    "    else:\n",
    "        res += n\n",
    "        return firstSumRec(n-1, res)\n",
    "\n",
    "\n",
    "def firstSum(n):\n",
    "    sum = 0\n",
    "    for i in range(n+1):\n",
    "        sum += i\n",
    "    return sum\n",
    "\n",
    "    \n",
    "    \n",
    "    \n",
    "print(firstSumRec(4))\n",
    "print(firstSum(4))\n"
   ]
  },
  {
   "cell_type": "markdown",
   "id": "7c0d5440",
   "metadata": {},
   "source": [
    "3. Write a program to print Fibonacci Series"
   ]
  },
  {
   "cell_type": "code",
   "execution_count": 23,
   "id": "151437b6",
   "metadata": {},
   "outputs": [
    {
     "name": "stdout",
     "output_type": "stream",
     "text": [
      "0 1 1 2 3 5\n"
     ]
    },
    {
     "data": {
      "text/plain": [
       "[0, 1, 1, 2, 3, 5]"
      ]
     },
     "execution_count": 23,
     "metadata": {},
     "output_type": "execute_result"
    }
   ],
   "source": [
    "def f(a, n):\n",
    "    if n <= 0:\n",
    "        print(0)\n",
    "        return\n",
    "    if n == 1:\n",
    "        print(*a, sep=\" \")\n",
    "        return\n",
    "    a.append(a[len(a) - 1] + a[len(a) - 2])\n",
    "    f(a, n - 1)\n",
    "a = [0, 1]\n",
    "f(a, 5)\n",
    "\n",
    "def fibb(n):\n",
    "    a, b = 0, 1\n",
    "    arr = [0, 1]\n",
    "\n",
    "    for i in range(n-1):\n",
    "        \n",
    "        c = a + b\n",
    "        a, b = b, c\n",
    "        arr.append(c)\n",
    "    return arr\n",
    "fibb(5)"
   ]
  },
  {
   "attachments": {
    "image.png": {
     "image/png": "[encoded data removed]"
    }
   },
   "cell_type": "markdown",
   "id": "d8425900",
   "metadata": {},
   "source": [
    "4. Write a program to print the array elements\n",
    "![image.png](attachment:image.png)"
   ]
  },
  {
   "cell_type": "code",
   "execution_count": 2,
   "id": "1cc2e4e0",
   "metadata": {},
   "outputs": [
    {
     "name": "stdout",
     "output_type": "stream",
     "text": [
      "1\n",
      "2\n",
      "3\n",
      "4\n",
      "5\n",
      "6\n",
      "7\n",
      "[1, 2, 3, 4, 5, 6, 7]\n"
     ]
    }
   ],
   "source": [
    "def printArrRec(array,lenOfArr, flag=0):\n",
    "    if lenOfArr == 0:\n",
    "        flag = 1\n",
    "    else:\n",
    "        print(array[flag])\n",
    "        flag += 1\n",
    "        return printArrRec(array, lenOfArr-1, flag)\n",
    "\n",
    "def printArr(arr):\n",
    "        print(arr)\n",
    "        \n",
    "        \n",
    "\n",
    "array = [1, 2, 3, 4, 5, 6, 7]\n",
    "printArrRec(array, 7)\n",
    "printArr(array)"
   ]
  },
  {
   "cell_type": "markdown",
   "id": "5f4d268f",
   "metadata": {},
   "source": [
    "\n",
    "5. Write a program to count the digits of a given number\n"
   ]
  },
  {
   "cell_type": "code",
   "execution_count": 14,
   "id": "d88b7a0a",
   "metadata": {},
   "outputs": [
    {
     "name": "stdout",
     "output_type": "stream",
     "text": [
      "6\n",
      "6\n"
     ]
    }
   ],
   "source": [
    "def countDigitsRecursion(number, counter=0):\n",
    "    if number == 0:\n",
    "        return counter\n",
    "    else:\n",
    "        counter += 1\n",
    "        return countDigitsRecursion(number//10, counter)\n",
    "\n",
    "def countDegits(number):\n",
    "    count = 0\n",
    "    while number != 0:\n",
    "        number = number // 10\n",
    "        count += 1\n",
    "    return count\n",
    "\n",
    "\n",
    "print(countDigitsRecursion(345446))\n",
    "print(countDegits(345446))"
   ]
  },
  {
   "cell_type": "markdown",
   "id": "1efc5989",
   "metadata": {},
   "source": [
    "6. Write a program to find the sum of digits of a number\n"
   ]
  },
  {
   "cell_type": "code",
   "execution_count": 37,
   "id": "f74c5c64",
   "metadata": {},
   "outputs": [
    {
     "name": "stdout",
     "output_type": "stream",
     "text": [
      "17\n",
      "17\n"
     ]
    }
   ],
   "source": [
    "def sumDigitsRecursion(number):\n",
    "    if number == 0: \n",
    "        return 0\n",
    "    remainder = number % 10\n",
    "    return remainder + sumDigitsRecursion(number//10)\n",
    "\n",
    "def sumDigits(number):\n",
    "    sum1  = 0 \n",
    "    remainder= 0\n",
    "    while number != 0:\n",
    "        remainder = number % 10\n",
    "        sum1 += remainder\n",
    "        number = number // 10\n",
    "    return sum1\n",
    "        \n",
    "\n",
    "\n",
    "print(sumDigitsRecursion(4634))\n",
    "print(sumDigits(4634))"
   ]
  },
  {
   "cell_type": "markdown",
   "id": "aa1a7fe4",
   "metadata": {},
   "source": [
    "7. Write a program to get the largest element of an array\n"
   ]
  },
  {
   "cell_type": "code",
   "execution_count": 38,
   "id": "d871097a",
   "metadata": {},
   "outputs": [
    {
     "name": "stdout",
     "output_type": "stream",
     "text": [
      "9\n",
      "9\n"
     ]
    }
   ],
   "source": [
    "def maxArrRec(array, maximum, index = 0):\n",
    "    if index == len(array):\n",
    "        return maximum\n",
    "    if maximum < array[index]:\n",
    "        maximum = array[index]\n",
    "    index += 1\n",
    "    return maxArrRec(array, maximum, index)\n",
    "array = [3, 6, 1, 9, 0, 5, -5]\n",
    "\n",
    "def maxArr(array):\n",
    "    return max(array)\n",
    "\n",
    "print(maxArrRec(array, array[0]))\n",
    "print(maxArr(array))"
   ]
  },
  {
   "cell_type": "markdown",
   "id": "ecd205eb",
   "metadata": {},
   "source": [
    "8. Write a program to reverse a string\n"
   ]
  },
  {
   "cell_type": "code",
   "execution_count": 86,
   "id": "71ebf33d",
   "metadata": {},
   "outputs": [
    {
     "name": "stdout",
     "output_type": "stream",
     "text": [
      "U\n",
      "T\n",
      "I\n",
      "A\n",
      "None\n",
      "UTIA\n"
     ]
    }
   ],
   "source": [
    "def reverseStringRec(string, lenStr, flag):\n",
    "    flag -= 1\n",
    "    if lenStr == 0:\n",
    "        flag = 1\n",
    "    else:\n",
    "        print(string[flag])\n",
    "        return reverseStringRec(string,lenStr-1, flag)\n",
    "    \n",
    "def reverseString(string):\n",
    "    return string[::-1]\n",
    "\n",
    "print(reverseStringRec(\"AITU\", 4, 4))\n",
    "print(reverseString('AITU'))"
   ]
  },
  {
   "cell_type": "code",
   "execution_count": null,
   "id": "4a3d88d1",
   "metadata": {},
   "outputs": [],
   "source": []
  },
  {
   "cell_type": "code",
   "execution_count": null,
   "id": "10ab6082",
   "metadata": {},
   "outputs": [],
   "source": []
  },
  {
   "cell_type": "code",
   "execution_count": null,
   "id": "686e2447",
   "metadata": {},
   "outputs": [],
   "source": []
  },
  {
   "cell_type": "code",
   "execution_count": null,
   "id": "69681c73",
   "metadata": {},
   "outputs": [],
   "source": []
  },
  {
   "cell_type": "code",
   "execution_count": null,
   "id": "615235bc",
   "metadata": {},
   "outputs": [],
   "source": []
  },
  {
   "cell_type": "code",
   "execution_count": null,
   "id": "160f51ea",
   "metadata": {},
   "outputs": [],
   "source": []
  },
  {
   "cell_type": "code",
   "execution_count": null,
   "id": "97d4ee72",
   "metadata": {},
   "outputs": [],
   "source": []
  },
  {
   "cell_type": "code",
   "execution_count": null,
   "id": "2578b00f",
   "metadata": {},
   "outputs": [],
   "source": []
  },
  {
   "cell_type": "code",
   "execution_count": null,
   "id": "5387e020",
   "metadata": {},
   "outputs": [],
   "source": []
  },
  {
   "cell_type": "code",
   "execution_count": null,
   "id": "6de54267",
   "metadata": {},
   "outputs": [],
   "source": []
  },
  {
   "cell_type": "code",
   "execution_count": null,
   "id": "41764e8c",
   "metadata": {},
   "outputs": [],
   "source": []
  },
  {
   "cell_type": "code",
   "execution_count": null,
   "id": "31c74859",
   "metadata": {},
   "outputs": [],
   "source": []
  },
  {
   "cell_type": "code",
   "execution_count": null,
   "id": "fbe2d614",
   "metadata": {},
   "outputs": [],
   "source": []
  },
  {
   "cell_type": "code",
   "execution_count": null,
   "id": "a63a6cc1",
   "metadata": {},
   "outputs": [],
   "source": []
  },
  {
   "cell_type": "code",
   "execution_count": null,
   "id": "9326e6f1",
   "metadata": {},
   "outputs": [],
   "source": []
  },
  {
   "cell_type": "code",
   "execution_count": null,
   "id": "cdc6c23f",
   "metadata": {},
   "outputs": [],
   "source": []
  },
  {
   "cell_type": "code",
   "execution_count": null,
   "id": "5cab1f1a",
   "metadata": {},
   "outputs": [],
   "source": []
  },
  {
   "cell_type": "code",
   "execution_count": null,
   "id": "047598d4",
   "metadata": {},
   "outputs": [],
   "source": []
  },
  {
   "cell_type": "code",
   "execution_count": null,
   "id": "107ecf25",
   "metadata": {},
   "outputs": [],
   "source": []
  },
  {
   "cell_type": "code",
   "execution_count": null,
   "id": "0f27ee8e",
   "metadata": {},
   "outputs": [],
   "source": []
  },
  {
   "cell_type": "code",
   "execution_count": null,
   "id": "f0397cf7",
   "metadata": {},
   "outputs": [],
   "source": []
  },
  {
   "cell_type": "code",
   "execution_count": null,
   "id": "d9780bb8",
   "metadata": {},
   "outputs": [],
   "source": []
  },
  {
   "cell_type": "code",
   "execution_count": 7,
   "id": "2ab40e2e",
   "metadata": {},
   "outputs": [
    {
     "data": {
      "text/plain": [
       "3"
      ]
     },
     "execution_count": 7,
     "metadata": {},
     "output_type": "execute_result"
    }
   ],
   "source": [
    "def R(res = 0, n)\n",
    "    if n == 0\n",
    "    return n\n",
    "else:\n",
    "    res\n",
    "    \n"
   ]
  },
  {
   "cell_type": "code",
   "execution_count": null,
   "id": "c88c461a",
   "metadata": {},
   "outputs": [],
   "source": []
  },
  {
   "cell_type": "code",
   "execution_count": null,
   "id": "fefa3856",
   "metadata": {},
   "outputs": [],
   "source": []
  },
  {
   "cell_type": "code",
   "execution_count": null,
   "id": "acad2a1c",
   "metadata": {},
   "outputs": [],
   "source": []
  }
 ],
 "metadata": {
  "kernelspec": {
   "display_name": "Python 3 (ipykernel)",
   "language": "python",
   "name": "python3"
  },
  "language_info": {
   "codemirror_mode": {
    "name": "ipython",
    "version": 3
   },
   "file_extension": ".py",
   "mimetype": "text/x-python",
   "name": "python",
   "nbconvert_exporter": "python",
   "pygments_lexer": "ipython3",
   "version": "3.9.7"
  }
 },
 "nbformat": 4,
 "nbformat_minor": 5
}
